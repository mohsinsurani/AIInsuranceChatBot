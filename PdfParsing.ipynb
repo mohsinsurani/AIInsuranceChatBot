{
 "cells": [
  {
   "cell_type": "code",
   "execution_count": 33,
   "id": "02b18e7c-507c-4f12-a0aa-ecadcdf7dd05",
   "metadata": {},
   "outputs": [],
   "source": [
    "from pdfAccess import PdfAccess\n",
    "from PyPDF2 import PdfReader\n",
    "import spacy\n",
    "import en_core_web_sm\n",
    "nlp = en_core_web_sm.load()\n",
    "from transformers import pipeline"
   ]
  },
  {
   "cell_type": "code",
   "execution_count": 36,
   "id": "9b6338fb-480f-4acd-9163-a73ca422dfa4",
   "metadata": {},
   "outputs": [],
   "source": [
    "pdf_doc = PdfAccess().accessPDF()"
   ]
  },
  {
   "cell_type": "code",
   "execution_count": 37,
   "id": "160407b9-959d-4d2a-90f9-1cb6f3a6ac85",
   "metadata": {},
   "outputs": [
    {
     "data": {
      "text/plain": [
       "Document('healthInsurance.pdf')"
      ]
     },
     "execution_count": 37,
     "metadata": {},
     "output_type": "execute_result"
    }
   ],
   "source": [
    "pdf_doc"
   ]
  },
  {
   "cell_type": "code",
   "execution_count": 5,
   "id": "ed3a9136-9973-49be-a42a-616f48ec92d0",
   "metadata": {},
   "outputs": [],
   "source": [
    "from PyPDF2 import PdfReader"
   ]
  },
  {
   "cell_type": "code",
   "execution_count": 45,
   "id": "a6377d5e-8cd3-4864-a7ff-c1d9be7731a6",
   "metadata": {},
   "outputs": [],
   "source": [
    "import re\n",
    "\n",
    "def extract_questions_and_answers(text):\n",
    "    # Split text into sentences\n",
    "    sentences = [sent.strip() for sent in text.split('\\n') if sent.strip()]\n",
    "\n",
    "    questions = []\n",
    "    answers = []\n",
    "\n",
    "    i = 0\n",
    "    while i < len(sentences):\n",
    "        current_sentence = sentences[i]\n",
    "\n",
    "        # Detect if the current sentence is a question (ends with '?')\n",
    "        if current_sentence.endswith('?'):\n",
    "            question = current_sentence\n",
    "\n",
    "            # Collect consecutive sentences until another \"?\" is found\n",
    "            i += 1\n",
    "            answer = \"\"\n",
    "            while i < len(sentences) and not sentences[i].endswith('?'):\n",
    "                answer += sentences[i] + \" \"\n",
    "                i += 1\n",
    "\n",
    "            questions.append(question)\n",
    "            answers.append(answer.strip())\n",
    "\n",
    "        i += 1\n",
    "\n",
    "    return questions, answers\n"
   ]
  },
  {
   "cell_type": "code",
   "execution_count": 24,
   "id": "658867c4-cb9f-4422-a436-b888e004a5c7",
   "metadata": {},
   "outputs": [],
   "source": [
    "pdf_path = PdfAccess().getPDFText()"
   ]
  },
  {
   "cell_type": "code",
   "execution_count": 4,
   "id": "a9d56585-eb09-493f-b7fa-cf8335520fe9",
   "metadata": {},
   "outputs": [
    {
     "data": {
      "text/plain": [
       "'healthInsurance.pdf'"
      ]
     },
     "execution_count": 4,
     "metadata": {},
     "output_type": "execute_result"
    }
   ],
   "source": [
    "pdf_path"
   ]
  },
  {
   "cell_type": "code",
   "execution_count": 46,
   "id": "066dcda7-a0d1-4ac6-ab41-3c52f5f15e0d",
   "metadata": {},
   "outputs": [],
   "source": [
    "que, ans = extract_questions_and_answers(pdf_path)"
   ]
  },
  {
   "cell_type": "code",
   "execution_count": 51,
   "id": "5fbbde83-293f-466d-a65f-2b7f75b7114a",
   "metadata": {},
   "outputs": [
    {
     "data": {
      "text/plain": [
       "(5, 5)"
      ]
     },
     "execution_count": 51,
     "metadata": {},
     "output_type": "execute_result"
    }
   ],
   "source": [
    "len(que), len(ans)"
   ]
  }
 ],
 "metadata": {
  "kernelspec": {
   "display_name": "Python 3 (ipykernel)",
   "language": "python",
   "name": "python3"
  },
  "language_info": {
   "codemirror_mode": {
    "name": "ipython",
    "version": 3
   },
   "file_extension": ".py",
   "mimetype": "text/x-python",
   "name": "python",
   "nbconvert_exporter": "python",
   "pygments_lexer": "ipython3",
   "version": "3.9.18"
  }
 },
 "nbformat": 4,
 "nbformat_minor": 5
}
